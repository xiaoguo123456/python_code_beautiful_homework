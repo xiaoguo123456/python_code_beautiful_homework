{
 "cells": [
  {
   "cell_type": "code",
   "execution_count": 7,
   "metadata": {},
   "outputs": [
    {
     "name": "stdout",
     "output_type": "stream",
     "text": [
      "3+5**2-4=24\n",
      "3-4+5**2=24\n",
      "3*2**5/4=24\n",
      "3/4*2**5=24\n",
      "5**2+3-4=24\n",
      "5**2-4+3=24\n",
      "2**5*3/4=24\n",
      "2**5/4*3=24\n"
     ]
    }
   ],
   "source": [
    "from itertools import permutations\n",
    "opt=['+','-','*','/','**']\n",
    "num=['2','3','4','5']\n",
    "\n",
    "com_opt=list(permutations(opt,3))\n",
    "com_num=list(permutations(num,4))\n",
    "\n",
    "\n",
    "\n",
    "for i in com_opt:\n",
    "    for j in com_num:\n",
    "        a=eval(j[0]+i[0]+j[1]+i[1]+j[2]+i[2]+j[3])\n",
    "        if a==24:\n",
    "            print(j[0]+i[0]+j[1]+i[1]+j[2]+i[2]+j[3],'=24',sep='')"
   ]
  },
  {
   "cell_type": "code",
   "execution_count": 9,
   "metadata": {},
   "outputs": [
    {
     "name": "stdin",
     "output_type": "stream",
     "text": [
      "请输入一个列表: [3,2,2,4,5,2,1,3,4,2,1,3,4,1]\n"
     ]
    },
    {
     "name": "stdout",
     "output_type": "stream",
     "text": [
      "[3, 2, 4, 5, 1]\n"
     ]
    }
   ],
   "source": [
    "ls=eval(input('请输入一个列表:'))\n",
    "a=[]\n",
    "for i in ls:\n",
    "    if i not in a:\n",
    "        a.append(i)\n",
    "print(a)\n",
    "    "
   ]
  },
  {
   "cell_type": "code",
   "execution_count": null,
   "metadata": {},
   "outputs": [],
   "source": []
  }
 ],
 "metadata": {
  "kernelspec": {
   "display_name": "Python 3",
   "language": "python",
   "name": "python3"
  },
  "language_info": {
   "codemirror_mode": {
    "name": "ipython",
    "version": 3
   },
   "file_extension": ".py",
   "mimetype": "text/x-python",
   "name": "python",
   "nbconvert_exporter": "python",
   "pygments_lexer": "ipython3",
   "version": "3.7.4"
  }
 },
 "nbformat": 4,
 "nbformat_minor": 4
}
