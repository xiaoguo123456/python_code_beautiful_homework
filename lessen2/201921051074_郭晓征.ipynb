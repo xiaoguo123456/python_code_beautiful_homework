{
 "cells": [
  {
   "cell_type": "markdown",
   "metadata": {},
   "source": [
    "# 进行加减法表的制作\n",
    "## 思路如下\n",
    "1. 建立一个含有加减号的列表，利用choice函数随机选择为加法或者减法。\n",
    "2. 确定加减法后，判断a，b及它们的得数是否符合条件，不符合条件就重新生成a，b，直至生成符合条件的a，b\n",
    "3. 利用total_num控制换行及终止的条件，每当有符合条件的a,b生成就让total_num加1，每当total_num除以4的余数为0时换行，当total_num为100时终止。\n",
    "4. 注意事项：为了让公式对齐，就要让a占3个字符，b占2个字符（3个字符不太好看，同时不会为100），得数也占3个字符。"
   ]
  },
  {
   "cell_type": "code",
   "execution_count": 1,
   "metadata": {},
   "outputs": [
    {
     "name": "stdout",
     "output_type": "stream",
     "text": [
      "100-91=  9\t 33+37= 70\t 18+59= 77\t 94-26= 68\t\n",
      " 74-66=  8\t 68+ 8= 76\t 47+ 7= 54\t 94-87=  7\t\n",
      " 35-17= 18\t 60-56=  4\t 52-13= 39\t 96-28= 68\t\n",
      " 91-67= 24\t 59+ 4= 63\t 57+ 3= 60\t 18+76= 94\t\n",
      "100-74= 26\t 80-33= 47\t 80- 4= 76\t 42+49= 91\t\n",
      " 31- 2= 29\t 18+12= 30\t 50-21= 29\t 51-27= 24\t\n",
      " 17+36= 53\t 96-47= 49\t 50- 2= 48\t 75-26= 49\t\n",
      " 44+46= 90\t  9+83= 92\t  8+54= 62\t 74-65=  9\t\n",
      " 37- 8= 29\t 71-46= 25\t 24+39= 63\t 84- 5= 79\t\n",
      " 19+38= 57\t 45+ 6= 51\t 41-35=  6\t 70-69=  1\t\n",
      " 91-19= 72\t 74-56= 18\t 90-33= 57\t 55+18= 73\t\n",
      " 67+25= 92\t 32+38= 70\t 34+17= 51\t 92-57= 35\t\n",
      "  8+16= 24\t 31-19= 12\t 78+ 5= 83\t 58+17= 75\t\n",
      " 60-35= 25\t 90-75= 15\t 16+68= 84\t 55-26= 29\t\n",
      " 50-18= 32\t 70-58= 12\t 36+25= 61\t 48+32= 80\t\n",
      " 40-28= 12\t 61- 5= 56\t 20-12=  8\t 51-45=  6\t\n",
      " 33+58= 91\t 80-49= 31\t  4+26= 30\t  8+44= 52\t\n",
      "  9+72= 81\t  7+67= 74\t 43-25= 18\t 19+64= 83\t\n",
      " 18- 9=  9\t 84-47= 37\t 27+64= 91\t 48+42= 90\t\n",
      " 19+56= 75\t 94-49= 45\t 87-38= 49\t 58+27= 85\t\n",
      " 94-26= 68\t 59+33= 92\t 32- 4= 28\t 62+19= 81\t\n",
      " 57+24= 81\t100-64= 36\t 18+ 2= 20\t 85+15=100\t\n",
      " 85- 8= 77\t 70- 1= 69\t 74-57= 17\t 65-39= 26\t\n",
      " 38+45= 83\t 28+28= 56\t 49+47= 96\t 58+42=100\t\n",
      " 49+26= 75\t 16+ 7= 23\t 19+64= 83\t 17+39= 56\t\n"
     ]
    }
   ],
   "source": [
    "import random\n",
    "total_num=0\n",
    "op=['-','+']\n",
    "while True:\n",
    "    a=random.randint(0,100)\n",
    "    b=random.randint(0,100)\n",
    "    c_op=random.choice(op)\n",
    "    if c_op=='+':\n",
    "        while (a%10)+(b%10)<10 or a+b>100:\n",
    "            a=random.randint(0,100)\n",
    "            b=random.randint(0,100)\n",
    "        print('%3d+%2d=%3d' % (a,b,a+b),sep='',end='\\t')\n",
    "        total_num=total_num+1\n",
    "        if total_num%4==0:\n",
    "            print()\n",
    "        if total_num==100:\n",
    "            break\n",
    "    if c_op=='-':\n",
    "        while (a%10>=b%10) or (a-b<0):\n",
    "            a=random.randint(0,100)\n",
    "            b=random.randint(0,100)\n",
    "        print('%3d-%2d=%3d' % (a,b,a-b),sep='',end='\\t')\n",
    "        total_num=total_num+1\n",
    "        if total_num%4==0:\n",
    "            print()\n",
    "        if total_num==100:\n",
    "            break"
   ]
  },
  {
   "cell_type": "markdown",
   "metadata": {},
   "source": [
    "# 求解四位数的亲和数\n",
    "## 思路如下\n",
    "1. 首先定义一个函数，可以求解一个数所有约数的和。\n",
    "2. 设置一个在1000到10000之间的循环，求解这之间所有数的约数和，并判断约数和的约数和与这个i是否相等，当相等的时候还要判断得到的另外一个数是否为四位数，当条件都符合时，就符合亲和数的条件，把亲和数存储到字典之中。\n",
    "3. 注意事项：在循环的开始，先判断这个数是否之前已经计算过，如果已经计算过就跳过，免得重复。"
   ]
  },
  {
   "cell_type": "code",
   "execution_count": 2,
   "metadata": {},
   "outputs": [
    {
     "name": "stdout",
     "output_type": "stream",
     "text": [
      "(1184, 1210)\n",
      "(2620, 2924)\n",
      "(5020, 5564)\n",
      "(6232, 6368)\n",
      "(8128, 8128)\n"
     ]
    }
   ],
   "source": [
    "import numpy as np\n",
    "\n",
    "def sum_yinshu(n):\n",
    "    a=[]\n",
    "    for i in range(1,n):\n",
    "        if n%i==0:\n",
    "            a.append(i)\n",
    "    return sum(a)\n",
    "\n",
    "zhenyinshu={}  \n",
    "for i in range(1000,10000):\n",
    "    if i in zhenyinshu.values():\n",
    "        continue\n",
    "    y=sum_yinshu(i)\n",
    "    if i==sum_yinshu(y):\n",
    "        if y>=1000 and y<=9999:\n",
    "            zhenyinshu.update({i:y})\n",
    "\n",
    "for a in zhenyinshu.items():\n",
    "    print(a)"
   ]
  },
  {
   "cell_type": "markdown",
   "metadata": {},
   "source": [
    "# 排列数字和符号得出结果为24的式子\n",
    "## 思路如下\n",
    "1. 利用python的自带库itertools里面的函数permutations对符号和数字进行排列，函数返回的迭代器，然后用list把迭代器转换为列表，要不然后面双重循环会报错。\n",
    "2. 然后用双重循环把做好的排列进行计算，得到结果，判断得数是否为24，当得数24时，把结果打印出来。"
   ]
  },
  {
   "cell_type": "code",
   "execution_count": 3,
   "metadata": {},
   "outputs": [
    {
     "name": "stdout",
     "output_type": "stream",
     "text": [
      "3+5**2-4=24\n",
      "3-4+5**2=24\n",
      "3*2**5/4=24\n",
      "3/4*2**5=24\n",
      "5**2+3-4=24\n",
      "5**2-4+3=24\n",
      "2**5*3/4=24\n",
      "2**5/4*3=24\n"
     ]
    }
   ],
   "source": [
    "from itertools import permutations\n",
    "opt=['+','-','*','/','**']\n",
    "num=['2','3','4','5']\n",
    "\n",
    "com_opt=list(permutations(opt,3))\n",
    "com_num=list(permutations(num,4))\n",
    "\n",
    "for i in com_opt:\n",
    "    for j in com_num:\n",
    "        a=eval(j[0]+i[0]+j[1]+i[1]+j[2]+i[2]+j[3])\n",
    "        if a==24:\n",
    "            print(j[0]+i[0]+j[1]+i[1]+j[2]+i[2]+j[3],'=24',sep='')"
   ]
  },
  {
   "cell_type": "markdown",
   "metadata": {},
   "source": [
    "## 输入列表去除重复元素\n",
    "## 思路如下\n",
    "1. 首先生成一个空的列表a\n",
    "2. 然后把输入的列表进行遍历，判断元素是否在a中，如果没有在a里面，就把这个元素加到a中。如果在a中出现过，说明已经重复，这个元素就不再往a中加。"
   ]
  },
  {
   "cell_type": "code",
   "execution_count": 4,
   "metadata": {},
   "outputs": [
    {
     "name": "stdin",
     "output_type": "stream",
     "text": [
      "请输入一个列表: [3,2,2,4,5,2,1,3,4,2,1,3,4,1]\n"
     ]
    },
    {
     "name": "stdout",
     "output_type": "stream",
     "text": [
      "[3, 2, 4, 5, 1]\n"
     ]
    }
   ],
   "source": [
    "ls=eval(input('请输入一个列表:'))\n",
    "a=[]\n",
    "for i in ls:\n",
    "    if i not in a:\n",
    "        a.append(i)\n",
    "print('去重结果为：',a)"
   ]
  },
  {
   "cell_type": "code",
   "execution_count": null,
   "metadata": {},
   "outputs": [],
   "source": []
  }
 ],
 "metadata": {
  "kernelspec": {
   "display_name": "Python 3",
   "language": "python",
   "name": "python3"
  },
  "language_info": {
   "codemirror_mode": {
    "name": "ipython",
    "version": 3
   },
   "file_extension": ".py",
   "mimetype": "text/x-python",
   "name": "python",
   "nbconvert_exporter": "python",
   "pygments_lexer": "ipython3",
   "version": "3.7.4"
  }
 },
 "nbformat": 4,
 "nbformat_minor": 4
}
