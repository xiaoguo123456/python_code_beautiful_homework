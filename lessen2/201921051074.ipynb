{
 "cells": [
  {
   "cell_type": "markdown",
   "metadata": {},
   "source": [
    "# 进行加减法表的制作"
   ]
  },
  {
   "cell_type": "code",
   "execution_count": 12,
   "metadata": {},
   "outputs": [
    {
     "name": "stdout",
     "output_type": "stream",
     "text": [
      " 70-68=  2\t 82-68= 14\t  7+79= 86\t 57+16= 73\t\n",
      " 19+25= 44\t 92-18= 74\t 26+57= 83\t 50- 3= 47\t\n",
      " 37+45= 82\t 94-19= 75\t 28+19= 47\t 56+38= 94\t\n",
      " 82- 8= 74\t 58+36= 94\t 64+ 8= 72\t  3+88= 91\t\n",
      " 19+43= 62\t  8+48= 56\t 48+ 5= 53\t 35-19= 16\t\n",
      " 19+24= 43\t  3+77= 80\t  1+99=100\t 49+13= 62\t\n",
      " 64+28= 92\t 50-36= 14\t 18+ 3= 21\t 46-37=  9\t\n",
      "  8+58= 66\t 46+39= 85\t 35+46= 81\t  9+41= 50\t\n",
      "  5+87= 92\t 74-15= 59\t 37- 9= 28\t 44- 6= 38\t\n",
      " 59+11= 70\t 81-47= 34\t 34-16= 18\t 25+56= 81\t\n",
      "  5+59= 64\t 55+18= 73\t 91-43= 48\t 85-59= 26\t\n",
      " 90-33= 57\t 52+ 8= 60\t 30- 8= 22\t 46+34= 80\t\n",
      " 26+66= 92\t  6+ 6= 12\t 66-49= 17\t  7+64= 71\t\n",
      " 82-54= 28\t  4+78= 82\t  6+35= 41\t 41-22= 19\t\n",
      "100-64= 36\t 50- 7= 43\t 80-18= 62\t 24- 8= 16\t\n",
      "100-61= 39\t 72-35= 37\t 59+15= 74\t  5+77= 82\t\n",
      " 87+ 8= 95\t 56-28= 28\t 94-37= 57\t 68+14= 82\t\n",
      " 53- 6= 47\t  7+47= 54\t  9+72= 81\t  8+87= 95\t\n",
      " 82-77=  5\t 36+36= 72\t 67+33=100\t 68+32=100\t\n",
      " 14+ 9= 23\t  8+89= 97\t 61-45= 16\t 83-34= 49\t\n",
      " 93-38= 55\t 33+19= 52\t 63-46= 17\t 44- 8= 36\t\n",
      "  1+69= 70\t 41-29= 12\t 75-68=  7\t 70-11= 59\t\n",
      " 41-29= 12\t 35+ 5= 40\t 82-63= 19\t 25+47= 72\t\n",
      " 81-17= 64\t  8+89= 97\t 42-28= 14\t 28+48= 76\t\n",
      "  9+17= 26\t 64-26= 38\t 44-37=  7\t 93-27= 66\t\n"
     ]
    }
   ],
   "source": [
    "import random\n",
    "\n",
    "\n",
    "\n",
    "total_num=0\n",
    "op=['-','+']\n",
    "while True:\n",
    "    a=random.randint(0,100)\n",
    "    b=random.randint(0,100)\n",
    "    c_op=random.choice(op)\n",
    "    if c_op=='+':\n",
    "        while (a%10)+(b%10)<10 or a+b>100:\n",
    "            a=random.randint(0,100)\n",
    "            b=random.randint(0,100)\n",
    "        print('%3d+%2d=%3d' % (a,b,a+b),sep='',end='\\t')\n",
    "        total_num=total_num+1\n",
    "        if total_num%4==0:\n",
    "            print()\n",
    "        if total_num==100:\n",
    "            break\n",
    "    if c_op=='-':\n",
    "        while (a%10>=b%10) or (a-b<0):\n",
    "            a=random.randint(0,100)\n",
    "            b=random.randint(0,100)\n",
    "        print('%3d-%2d=%3d' % (a,b,a-b),sep='',end='\\t')\n",
    "        total_num=total_num+1\n",
    "        if total_num%4==0:\n",
    "            print()\n",
    "        if total_num==100:\n",
    "            break"
   ]
  },
  {
   "cell_type": "markdown",
   "metadata": {},
   "source": [
    "# 求解亲和数，并打印出来"
   ]
  },
  {
   "cell_type": "code",
   "execution_count": 13,
   "metadata": {},
   "outputs": [
    {
     "name": "stdout",
     "output_type": "stream",
     "text": [
      "(1184, 1210)\n",
      "(2620, 2924)\n",
      "(5020, 5564)\n",
      "(6232, 6368)\n",
      "(8128, 8128)\n"
     ]
    }
   ],
   "source": [
    "import numpy as np\n",
    "\n",
    "zhenyinshu={}\n",
    "\n",
    "def sum_yinshu(n):\n",
    "    a=[]\n",
    "    for i in range(1,n):\n",
    "        if n%i==0:\n",
    "            a.append(i)\n",
    "    return sum(a)\n",
    "    \n",
    "for i in range(1000,10000):\n",
    "    if i in zhenyinshu.values():\n",
    "        continue\n",
    "    y=sum_yinshu(i)\n",
    "    if i==sum_yinshu(y):\n",
    "        if y>=1000 and y<=9999:\n",
    "            zhenyinshu.update({i:y})\n",
    "\n",
    "for a in zhenyinshu.items():\n",
    "    print(a)"
   ]
  },
  {
   "cell_type": "code",
   "execution_count": null,
   "metadata": {},
   "outputs": [],
   "source": []
  }
 ],
 "metadata": {
  "kernelspec": {
   "display_name": "Python 3",
   "language": "python",
   "name": "python3"
  },
  "language_info": {
   "codemirror_mode": {
    "name": "ipython",
    "version": 3
   },
   "file_extension": ".py",
   "mimetype": "text/x-python",
   "name": "python",
   "nbconvert_exporter": "python",
   "pygments_lexer": "ipython3",
   "version": "3.7.4"
  }
 },
 "nbformat": 4,
 "nbformat_minor": 4
}
